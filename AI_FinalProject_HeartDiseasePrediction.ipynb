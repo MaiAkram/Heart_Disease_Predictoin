{
 "cells": [
  {
   "cell_type": "code",
   "execution_count": 1,
   "metadata": {
    "colab": {
     "base_uri": "https://localhost:8080/"
    },
    "id": "uFT_r-alCCyD",
    "outputId": "3c3dff68-8a61-43e2-d572-9e8c776d7155"
   },
   "outputs": [],
   "source": [
    "#from google.colab import drive\n",
    "#drive.mount('/content/drive')"
   ]
  },
  {
   "cell_type": "code",
   "execution_count": 2,
   "metadata": {
    "colab": {
     "base_uri": "https://localhost:8080/"
    },
    "id": "lyEqUFrDyHyO",
    "outputId": "9a68bfb4-9909-4a16-ab30-e35a43959ae4"
   },
   "outputs": [
    {
     "name": "stdout",
     "output_type": "stream",
     "text": [
      "[WinError 3] The system cannot find the path specified: \"'/content/drive/MyDrive/Python/'\"\n",
      "C:\\Users\\frz\n"
     ]
    }
   ],
   "source": [
    "%cd '/content/drive/MyDrive/Python/'"
   ]
  },
  {
   "cell_type": "code",
   "execution_count": 3,
   "metadata": {
    "id": "wHI-06NcxwO7"
   },
   "outputs": [],
   "source": [
    "import pandas as pd"
   ]
  },
  {
   "cell_type": "code",
   "execution_count": 4,
   "metadata": {
    "id": "zGUeHPW9A1mI"
   },
   "outputs": [],
   "source": [
    "data = pd.read_csv('heart.csv')"
   ]
  },
  {
   "cell_type": "code",
   "execution_count": 5,
   "metadata": {
    "colab": {
     "base_uri": "https://localhost:8080/"
    },
    "id": "_qfc8umsCIGc",
    "outputId": "c98055ec-93e6-4ad6-840b-94aaadf41a52"
   },
   "outputs": [
    {
     "data": {
      "text/plain": [
       "age         0\n",
       "Gender      0\n",
       "cp          0\n",
       "trestbps    0\n",
       "chol        0\n",
       "fbs         0\n",
       "restecg     0\n",
       "thalach     0\n",
       "exang       0\n",
       "oldpeak     0\n",
       "slope       0\n",
       "ca          0\n",
       "thal        0\n",
       "target      0\n",
       "dtype: int64"
      ]
     },
     "execution_count": 5,
     "metadata": {},
     "output_type": "execute_result"
    }
   ],
   "source": [
    "data.isnull().sum()"
   ]
  },
  {
   "cell_type": "code",
   "execution_count": 6,
   "metadata": {
    "colab": {
     "base_uri": "https://localhost:8080/"
    },
    "id": "PCoMlsdsCTXK",
    "outputId": "9abbcd72-87c8-48c4-fcc1-06c4673c1835"
   },
   "outputs": [
    {
     "data": {
      "text/plain": [
       "True"
      ]
     },
     "execution_count": 6,
     "metadata": {},
     "output_type": "execute_result"
    }
   ],
   "source": [
    "duplicate_data = data.duplicated().any()\n",
    "duplicate_data"
   ]
  },
  {
   "cell_type": "code",
   "execution_count": 7,
   "metadata": {
    "colab": {
     "base_uri": "https://localhost:8080/"
    },
    "id": "c4TcijLxCvkS",
    "outputId": "b5c0b11c-293b-4463-dea0-ae5c5b7d09cd"
   },
   "outputs": [
    {
     "data": {
      "text/plain": [
       "False"
      ]
     },
     "execution_count": 7,
     "metadata": {},
     "output_type": "execute_result"
    }
   ],
   "source": [
    "data = data.drop_duplicates()\n",
    "duplicate_data = data.duplicated().any()\n",
    "duplicate_data"
   ]
  },
  {
   "cell_type": "code",
   "execution_count": 8,
   "metadata": {
    "id": "Zg2EXK4OC9C7"
   },
   "outputs": [],
   "source": [
    "categorical_values = []\n",
    "numerical_values = []\n",
    "for column in data.columns:\n",
    "  if data[column].nunique() <= 10:\n",
    "    categorical_values.append(column)\n",
    "  else:\n",
    "    numerical_values.append(column)"
   ]
  },
  {
   "cell_type": "code",
   "execution_count": 9,
   "metadata": {
    "colab": {
     "base_uri": "https://localhost:8080/"
    },
    "id": "N864BYyEGL-A",
    "outputId": "08b95ec5-a6cb-45a3-a9d9-076300e9369a"
   },
   "outputs": [
    {
     "data": {
      "text/plain": [
       "['Gender', 'cp', 'fbs', 'restecg', 'exang', 'slope', 'ca', 'thal', 'target']"
      ]
     },
     "execution_count": 9,
     "metadata": {},
     "output_type": "execute_result"
    }
   ],
   "source": [
    "categorical_values\n"
   ]
  },
  {
   "cell_type": "code",
   "execution_count": 10,
   "metadata": {
    "colab": {
     "base_uri": "https://localhost:8080/"
    },
    "id": "ZCMM1FrSGWcZ",
    "outputId": "c8f121cf-3bde-45c6-9101-1a04091a4497"
   },
   "outputs": [
    {
     "data": {
      "text/plain": [
       "['age', 'trestbps', 'chol', 'thalach', 'oldpeak']"
      ]
     },
     "execution_count": 10,
     "metadata": {},
     "output_type": "execute_result"
    }
   ],
   "source": [
    "numerical_values"
   ]
  },
  {
   "cell_type": "code",
   "execution_count": 11,
   "metadata": {
    "colab": {
     "base_uri": "https://localhost:8080/"
    },
    "id": "4Es7XF6BG8FB",
    "outputId": "41e7a732-3113-42a9-fdfb-415ff0f47d76"
   },
   "outputs": [
    {
     "name": "stdout",
     "output_type": "stream",
     "text": [
      "Gender unique data [1 0]\n",
      "cp unique data [0 1 2 3]\n",
      "fbs unique data [0 1]\n",
      "restecg unique data [1 0 2]\n",
      "exang unique data [0 1]\n",
      "slope unique data [2 0 1]\n",
      "ca unique data [2 0 1 3 4]\n",
      "thal unique data [3 2 1 0]\n",
      "target unique data [0 1]\n"
     ]
    }
   ],
   "source": [
    "print(\"Gender unique data\",data['Gender'].unique())\n",
    "print(\"cp unique data\",data['cp'].unique())\n",
    "print(\"fbs unique data\",data['fbs'].unique())\n",
    "print(\"restecg unique data\",data['restecg'].unique())\n",
    "print(\"exang unique data\",data['exang'].unique())\n",
    "print(\"slope unique data\",data['slope'].unique())\n",
    "print(\"ca unique data\",data['ca'].unique())\n",
    "print(\"thal unique data\",data['thal'].unique())\n",
    "print(\"target unique data\",data['target'].unique())\n",
    "\n"
   ]
  },
  {
   "cell_type": "code",
   "execution_count": 12,
   "metadata": {
    "id": "3P035ePIQlOn"
   },
   "outputs": [],
   "source": [
    "categorical_values.remove('Gender')\n",
    "categorical_values.remove('fbs')\n",
    "categorical_values.remove('exang')\n",
    "categorical_values.remove('target')\n",
    "#data = pd.get_dummies(data,columns = categorical_values,drop_first = True)"
   ]
  },
  {
   "cell_type": "code",
   "execution_count": 13,
   "metadata": {
    "colab": {
     "base_uri": "https://localhost:8080/",
     "height": 206
    },
    "id": "4CzgOfCoRRS_",
    "outputId": "0f2d78a4-9bec-4a3a-f04c-5eb406dd92e6"
   },
   "outputs": [
    {
     "data": {
      "text/html": [
       "<div>\n",
       "<style scoped>\n",
       "    .dataframe tbody tr th:only-of-type {\n",
       "        vertical-align: middle;\n",
       "    }\n",
       "\n",
       "    .dataframe tbody tr th {\n",
       "        vertical-align: top;\n",
       "    }\n",
       "\n",
       "    .dataframe thead th {\n",
       "        text-align: right;\n",
       "    }\n",
       "</style>\n",
       "<table border=\"1\" class=\"dataframe\">\n",
       "  <thead>\n",
       "    <tr style=\"text-align: right;\">\n",
       "      <th></th>\n",
       "      <th>age</th>\n",
       "      <th>Gender</th>\n",
       "      <th>cp</th>\n",
       "      <th>trestbps</th>\n",
       "      <th>chol</th>\n",
       "      <th>fbs</th>\n",
       "      <th>restecg</th>\n",
       "      <th>thalach</th>\n",
       "      <th>exang</th>\n",
       "      <th>oldpeak</th>\n",
       "      <th>slope</th>\n",
       "      <th>ca</th>\n",
       "      <th>thal</th>\n",
       "      <th>target</th>\n",
       "    </tr>\n",
       "  </thead>\n",
       "  <tbody>\n",
       "    <tr>\n",
       "      <th>0</th>\n",
       "      <td>52</td>\n",
       "      <td>1</td>\n",
       "      <td>0</td>\n",
       "      <td>125</td>\n",
       "      <td>212</td>\n",
       "      <td>0</td>\n",
       "      <td>1</td>\n",
       "      <td>168</td>\n",
       "      <td>0</td>\n",
       "      <td>1.0</td>\n",
       "      <td>2</td>\n",
       "      <td>2</td>\n",
       "      <td>3</td>\n",
       "      <td>0</td>\n",
       "    </tr>\n",
       "    <tr>\n",
       "      <th>1</th>\n",
       "      <td>53</td>\n",
       "      <td>1</td>\n",
       "      <td>0</td>\n",
       "      <td>140</td>\n",
       "      <td>203</td>\n",
       "      <td>1</td>\n",
       "      <td>0</td>\n",
       "      <td>155</td>\n",
       "      <td>1</td>\n",
       "      <td>3.1</td>\n",
       "      <td>0</td>\n",
       "      <td>0</td>\n",
       "      <td>3</td>\n",
       "      <td>0</td>\n",
       "    </tr>\n",
       "    <tr>\n",
       "      <th>2</th>\n",
       "      <td>70</td>\n",
       "      <td>1</td>\n",
       "      <td>0</td>\n",
       "      <td>145</td>\n",
       "      <td>174</td>\n",
       "      <td>0</td>\n",
       "      <td>1</td>\n",
       "      <td>125</td>\n",
       "      <td>1</td>\n",
       "      <td>2.6</td>\n",
       "      <td>0</td>\n",
       "      <td>0</td>\n",
       "      <td>3</td>\n",
       "      <td>0</td>\n",
       "    </tr>\n",
       "    <tr>\n",
       "      <th>3</th>\n",
       "      <td>61</td>\n",
       "      <td>1</td>\n",
       "      <td>0</td>\n",
       "      <td>148</td>\n",
       "      <td>203</td>\n",
       "      <td>0</td>\n",
       "      <td>1</td>\n",
       "      <td>161</td>\n",
       "      <td>0</td>\n",
       "      <td>0.0</td>\n",
       "      <td>2</td>\n",
       "      <td>1</td>\n",
       "      <td>3</td>\n",
       "      <td>0</td>\n",
       "    </tr>\n",
       "    <tr>\n",
       "      <th>4</th>\n",
       "      <td>62</td>\n",
       "      <td>0</td>\n",
       "      <td>0</td>\n",
       "      <td>138</td>\n",
       "      <td>294</td>\n",
       "      <td>1</td>\n",
       "      <td>1</td>\n",
       "      <td>106</td>\n",
       "      <td>0</td>\n",
       "      <td>1.9</td>\n",
       "      <td>1</td>\n",
       "      <td>3</td>\n",
       "      <td>2</td>\n",
       "      <td>0</td>\n",
       "    </tr>\n",
       "  </tbody>\n",
       "</table>\n",
       "</div>"
      ],
      "text/plain": [
       "   age  Gender  cp  trestbps  chol  fbs  restecg  thalach  exang  oldpeak  \\\n",
       "0   52       1   0       125   212    0        1      168      0      1.0   \n",
       "1   53       1   0       140   203    1        0      155      1      3.1   \n",
       "2   70       1   0       145   174    0        1      125      1      2.6   \n",
       "3   61       1   0       148   203    0        1      161      0      0.0   \n",
       "4   62       0   0       138   294    1        1      106      0      1.9   \n",
       "\n",
       "   slope  ca  thal  target  \n",
       "0      2   2     3       0  \n",
       "1      0   0     3       0  \n",
       "2      0   0     3       0  \n",
       "3      2   1     3       0  \n",
       "4      1   3     2       0  "
      ]
     },
     "execution_count": 13,
     "metadata": {},
     "output_type": "execute_result"
    }
   ],
   "source": [
    "data.head()"
   ]
  },
  {
   "cell_type": "code",
   "execution_count": 14,
   "metadata": {
    "id": "mi2y9C2fSZIe"
   },
   "outputs": [],
   "source": [
    "from sklearn.preprocessing import StandardScaler\n",
    "st = StandardScaler()\n",
    "data[numerical_values] = st.fit_transform(data[numerical_values])"
   ]
  },
  {
   "cell_type": "code",
   "execution_count": 15,
   "metadata": {
    "colab": {
     "base_uri": "https://localhost:8080/",
     "height": 206
    },
    "id": "mfcYz6i1S5e_",
    "outputId": "67eee9d4-fa61-43c0-bcb0-7fdc79936d7e"
   },
   "outputs": [
    {
     "data": {
      "text/html": [
       "<div>\n",
       "<style scoped>\n",
       "    .dataframe tbody tr th:only-of-type {\n",
       "        vertical-align: middle;\n",
       "    }\n",
       "\n",
       "    .dataframe tbody tr th {\n",
       "        vertical-align: top;\n",
       "    }\n",
       "\n",
       "    .dataframe thead th {\n",
       "        text-align: right;\n",
       "    }\n",
       "</style>\n",
       "<table border=\"1\" class=\"dataframe\">\n",
       "  <thead>\n",
       "    <tr style=\"text-align: right;\">\n",
       "      <th></th>\n",
       "      <th>age</th>\n",
       "      <th>Gender</th>\n",
       "      <th>cp</th>\n",
       "      <th>trestbps</th>\n",
       "      <th>chol</th>\n",
       "      <th>fbs</th>\n",
       "      <th>restecg</th>\n",
       "      <th>thalach</th>\n",
       "      <th>exang</th>\n",
       "      <th>oldpeak</th>\n",
       "      <th>slope</th>\n",
       "      <th>ca</th>\n",
       "      <th>thal</th>\n",
       "      <th>target</th>\n",
       "    </tr>\n",
       "  </thead>\n",
       "  <tbody>\n",
       "    <tr>\n",
       "      <th>0</th>\n",
       "      <td>-0.267966</td>\n",
       "      <td>1</td>\n",
       "      <td>0</td>\n",
       "      <td>-0.376556</td>\n",
       "      <td>-0.667728</td>\n",
       "      <td>0</td>\n",
       "      <td>1</td>\n",
       "      <td>0.806035</td>\n",
       "      <td>0</td>\n",
       "      <td>-0.037124</td>\n",
       "      <td>2</td>\n",
       "      <td>2</td>\n",
       "      <td>3</td>\n",
       "      <td>0</td>\n",
       "    </tr>\n",
       "    <tr>\n",
       "      <th>1</th>\n",
       "      <td>-0.157260</td>\n",
       "      <td>1</td>\n",
       "      <td>0</td>\n",
       "      <td>0.478910</td>\n",
       "      <td>-0.841918</td>\n",
       "      <td>1</td>\n",
       "      <td>0</td>\n",
       "      <td>0.237495</td>\n",
       "      <td>1</td>\n",
       "      <td>1.773958</td>\n",
       "      <td>0</td>\n",
       "      <td>0</td>\n",
       "      <td>3</td>\n",
       "      <td>0</td>\n",
       "    </tr>\n",
       "    <tr>\n",
       "      <th>2</th>\n",
       "      <td>1.724733</td>\n",
       "      <td>1</td>\n",
       "      <td>0</td>\n",
       "      <td>0.764066</td>\n",
       "      <td>-1.403197</td>\n",
       "      <td>0</td>\n",
       "      <td>1</td>\n",
       "      <td>-1.074521</td>\n",
       "      <td>1</td>\n",
       "      <td>1.342748</td>\n",
       "      <td>0</td>\n",
       "      <td>0</td>\n",
       "      <td>3</td>\n",
       "      <td>0</td>\n",
       "    </tr>\n",
       "    <tr>\n",
       "      <th>3</th>\n",
       "      <td>0.728383</td>\n",
       "      <td>1</td>\n",
       "      <td>0</td>\n",
       "      <td>0.935159</td>\n",
       "      <td>-0.841918</td>\n",
       "      <td>0</td>\n",
       "      <td>1</td>\n",
       "      <td>0.499898</td>\n",
       "      <td>0</td>\n",
       "      <td>-0.899544</td>\n",
       "      <td>2</td>\n",
       "      <td>1</td>\n",
       "      <td>3</td>\n",
       "      <td>0</td>\n",
       "    </tr>\n",
       "    <tr>\n",
       "      <th>4</th>\n",
       "      <td>0.839089</td>\n",
       "      <td>0</td>\n",
       "      <td>0</td>\n",
       "      <td>0.364848</td>\n",
       "      <td>0.919336</td>\n",
       "      <td>1</td>\n",
       "      <td>1</td>\n",
       "      <td>-1.905464</td>\n",
       "      <td>0</td>\n",
       "      <td>0.739054</td>\n",
       "      <td>1</td>\n",
       "      <td>3</td>\n",
       "      <td>2</td>\n",
       "      <td>0</td>\n",
       "    </tr>\n",
       "  </tbody>\n",
       "</table>\n",
       "</div>"
      ],
      "text/plain": [
       "        age  Gender  cp  trestbps      chol  fbs  restecg   thalach  exang  \\\n",
       "0 -0.267966       1   0 -0.376556 -0.667728    0        1  0.806035      0   \n",
       "1 -0.157260       1   0  0.478910 -0.841918    1        0  0.237495      1   \n",
       "2  1.724733       1   0  0.764066 -1.403197    0        1 -1.074521      1   \n",
       "3  0.728383       1   0  0.935159 -0.841918    0        1  0.499898      0   \n",
       "4  0.839089       0   0  0.364848  0.919336    1        1 -1.905464      0   \n",
       "\n",
       "    oldpeak  slope  ca  thal  target  \n",
       "0 -0.037124      2   2     3       0  \n",
       "1  1.773958      0   0     3       0  \n",
       "2  1.342748      0   0     3       0  \n",
       "3 -0.899544      2   1     3       0  \n",
       "4  0.739054      1   3     2       0  "
      ]
     },
     "execution_count": 15,
     "metadata": {},
     "output_type": "execute_result"
    }
   ],
   "source": [
    "data.head()"
   ]
  },
  {
   "cell_type": "code",
   "execution_count": 16,
   "metadata": {
    "id": "11Muq0PNTHac"
   },
   "outputs": [],
   "source": [
    "X = data.drop('target',axis = 1)\n",
    "Y = data['target']"
   ]
  },
  {
   "cell_type": "code",
   "execution_count": 17,
   "metadata": {
    "id": "MKMh36JWTbG1"
   },
   "outputs": [],
   "source": [
    "from sklearn.model_selection import train_test_split\n",
    "x_train,x_test,y_train,y_test = train_test_split(X,Y,test_size = 0.2,random_state=42)"
   ]
  },
  {
   "cell_type": "code",
   "execution_count": 18,
   "metadata": {
    "colab": {
     "base_uri": "https://localhost:8080/"
    },
    "id": "uUC0zKfoT6Ls",
    "outputId": "2f9b4506-af82-4b1c-9368-09b04ae064b1"
   },
   "outputs": [
    {
     "data": {
      "text/plain": [
       "0.7868852459016393"
      ]
     },
     "execution_count": 18,
     "metadata": {},
     "output_type": "execute_result"
    }
   ],
   "source": [
    "from sklearn.linear_model import LogisticRegression\n",
    "from sklearn.metrics import accuracy_score\n",
    "log = LogisticRegression()\n",
    "log.fit(x_train,y_train)\n",
    "y_predict1 = log.predict(x_test)\n",
    "accuracy_score(y_test,y_predict1)"
   ]
  },
  {
   "cell_type": "code",
   "execution_count": 19,
   "metadata": {
    "colab": {
     "base_uri": "https://localhost:8080/"
    },
    "id": "lYiLI0tqVTxD",
    "outputId": "2f5bead7-539e-46ac-e4c7-57f68c5ac9b9"
   },
   "outputs": [
    {
     "data": {
      "text/plain": [
       "0.8360655737704918"
      ]
     },
     "execution_count": 19,
     "metadata": {},
     "output_type": "execute_result"
    }
   ],
   "source": [
    "from sklearn import svm\n",
    "svm = svm.SVC()\n",
    "svm.fit(x_train,y_train)\n",
    "y_predict2 = svm.predict(x_test)\n",
    "accuracy_score(y_test,y_predict2)"
   ]
  },
  {
   "cell_type": "code",
   "execution_count": 20,
   "metadata": {
    "colab": {
     "base_uri": "https://localhost:8080/"
    },
    "id": "0thOouerV4LM",
    "outputId": "ad161a55-0ba2-42de-d12c-db64ca307351"
   },
   "outputs": [
    {
     "data": {
      "text/plain": [
       "0.7704918032786885"
      ]
     },
     "execution_count": 20,
     "metadata": {},
     "output_type": "execute_result"
    }
   ],
   "source": [
    "from sklearn.neighbors import KNeighborsClassifier\n",
    "knn = KNeighborsClassifier(n_neighbors=10)\n",
    "knn.fit(x_train,y_train)\n",
    "y_predict3 = knn.predict(x_test)\n",
    "accuracy_score(y_test,y_predict3)"
   ]
  },
  {
   "cell_type": "code",
   "execution_count": 21,
   "metadata": {},
   "outputs": [
    {
     "data": {
      "text/plain": [
       "0.8524590163934426"
      ]
     },
     "execution_count": 21,
     "metadata": {},
     "output_type": "execute_result"
    }
   ],
   "source": [
    "from sklearn.ensemble import RandomForestClassifier\n",
    "rf = RandomForestClassifier()\n",
    "rf.fit(x_train,y_train)\n",
    "y_predict4= rf.predict(x_test)\n",
    "accuracy_score(y_test,y_predict4)"
   ]
  },
  {
   "cell_type": "code",
   "execution_count": 22,
   "metadata": {
    "colab": {
     "base_uri": "https://localhost:8080/",
     "height": 143
    },
    "id": "QNuc5ICXXZbl",
    "outputId": "f1311e77-5990-478f-ce63-b25bf212d385"
   },
   "outputs": [
    {
     "data": {
      "text/html": [
       "<div>\n",
       "<style scoped>\n",
       "    .dataframe tbody tr th:only-of-type {\n",
       "        vertical-align: middle;\n",
       "    }\n",
       "\n",
       "    .dataframe tbody tr th {\n",
       "        vertical-align: top;\n",
       "    }\n",
       "\n",
       "    .dataframe thead th {\n",
       "        text-align: right;\n",
       "    }\n",
       "</style>\n",
       "<table border=\"1\" class=\"dataframe\">\n",
       "  <thead>\n",
       "    <tr style=\"text-align: right;\">\n",
       "      <th></th>\n",
       "      <th>Models</th>\n",
       "      <th>Accuracy</th>\n",
       "    </tr>\n",
       "  </thead>\n",
       "  <tbody>\n",
       "    <tr>\n",
       "      <th>0</th>\n",
       "      <td>LR</td>\n",
       "      <td>0.786885</td>\n",
       "    </tr>\n",
       "    <tr>\n",
       "      <th>1</th>\n",
       "      <td>svm</td>\n",
       "      <td>0.836066</td>\n",
       "    </tr>\n",
       "    <tr>\n",
       "      <th>2</th>\n",
       "      <td>KNN</td>\n",
       "      <td>0.770492</td>\n",
       "    </tr>\n",
       "    <tr>\n",
       "      <th>3</th>\n",
       "      <td>RF</td>\n",
       "      <td>0.852459</td>\n",
       "    </tr>\n",
       "  </tbody>\n",
       "</table>\n",
       "</div>"
      ],
      "text/plain": [
       "  Models  Accuracy\n",
       "0     LR  0.786885\n",
       "1    svm  0.836066\n",
       "2    KNN  0.770492\n",
       "3     RF  0.852459"
      ]
     },
     "execution_count": 22,
     "metadata": {},
     "output_type": "execute_result"
    }
   ],
   "source": [
    "final_data = pd.DataFrame({'Models':['LR','svm','KNN','RF'],\n",
    "                          'Accuracy':[accuracy_score(y_test,y_predict1),\n",
    "                                      accuracy_score(y_test,y_predict2),\n",
    "                                      accuracy_score(y_test,y_predict3),\n",
    "                                      accuracy_score(y_test,y_predict4)]})\n",
    "final_data\n"
   ]
  },
  {
   "cell_type": "code",
   "execution_count": 23,
   "metadata": {
    "id": "2f2IXvUhahlR"
   },
   "outputs": [],
   "source": [
    "import seaborn as sns"
   ]
  },
  {
   "cell_type": "code",
   "execution_count": 24,
   "metadata": {
    "colab": {
     "base_uri": "https://localhost:8080/",
     "height": 466
    },
    "id": "5dj9GzBSoeMW",
    "outputId": "6d2130a9-0603-4825-a883-43bf44500b03"
   },
   "outputs": [
    {
     "data": {
      "text/plain": [
       "<AxesSubplot:xlabel='Models', ylabel='Accuracy'>"
      ]
     },
     "execution_count": 24,
     "metadata": {},
     "output_type": "execute_result"
    },
    {
     "data": {
      "image/png": "[encoded data removed]",
      "text/plain": [
       "<Figure size 432x288 with 1 Axes>"
      ]
     },
     "metadata": {
      "needs_background": "light"
     },
     "output_type": "display_data"
    }
   ],
   "source": [
    "sns.barplot(x=final_data['Models'],y=final_data['Accuracy'])\n"
   ]
  },
  {
   "cell_type": "code",
   "execution_count": 25,
   "metadata": {
    "id": "dxl3gnfrrNw9"
   },
   "outputs": [],
   "source": [
    "new_data = pd.DataFrame({\n",
    "    'age':52,\n",
    "    'Gender':1,\n",
    "    'cp':0,\n",
    "    'trestbps':125,\n",
    "    'chol':212,\n",
    "    'fbs':0,\n",
    "    'restecg':1,\n",
    "    'thalach':168,\n",
    "    'exang':0,\n",
    "    'oldpeak':1.0,\n",
    "    'slope':2,\n",
    "    'ca':2,\n",
    "    'thal':3,\n",
    "},index = [0])"
   ]
  },
  {
   "cell_type": "code",
   "execution_count": 26,
   "metadata": {
    "colab": {
     "base_uri": "https://localhost:8080/",
     "height": 81
    },
    "id": "-oPSpYNXsrLT",
    "outputId": "6401014e-c3d8-4774-aeb0-10527e1fc418"
   },
   "outputs": [
    {
     "data": {
      "text/html": [
       "<div>\n",
       "<style scoped>\n",
       "    .dataframe tbody tr th:only-of-type {\n",
       "        vertical-align: middle;\n",
       "    }\n",
       "\n",
       "    .dataframe tbody tr th {\n",
       "        vertical-align: top;\n",
       "    }\n",
       "\n",
       "    .dataframe thead th {\n",
       "        text-align: right;\n",
       "    }\n",
       "</style>\n",
       "<table border=\"1\" class=\"dataframe\">\n",
       "  <thead>\n",
       "    <tr style=\"text-align: right;\">\n",
       "      <th></th>\n",
       "      <th>age</th>\n",
       "      <th>Gender</th>\n",
       "      <th>cp</th>\n",
       "      <th>trestbps</th>\n",
       "      <th>chol</th>\n",
       "      <th>fbs</th>\n",
       "      <th>restecg</th>\n",
       "      <th>thalach</th>\n",
       "      <th>exang</th>\n",
       "      <th>oldpeak</th>\n",
       "      <th>slope</th>\n",
       "      <th>ca</th>\n",
       "      <th>thal</th>\n",
       "    </tr>\n",
       "  </thead>\n",
       "  <tbody>\n",
       "    <tr>\n",
       "      <th>0</th>\n",
       "      <td>52</td>\n",
       "      <td>1</td>\n",
       "      <td>0</td>\n",
       "      <td>125</td>\n",
       "      <td>212</td>\n",
       "      <td>0</td>\n",
       "      <td>1</td>\n",
       "      <td>168</td>\n",
       "      <td>0</td>\n",
       "      <td>1.0</td>\n",
       "      <td>2</td>\n",
       "      <td>2</td>\n",
       "      <td>3</td>\n",
       "    </tr>\n",
       "  </tbody>\n",
       "</table>\n",
       "</div>"
      ],
      "text/plain": [
       "   age  Gender  cp  trestbps  chol  fbs  restecg  thalach  exang  oldpeak  \\\n",
       "0   52       1   0       125   212    0        1      168      0      1.0   \n",
       "\n",
       "   slope  ca  thal  \n",
       "0      2   2     3  "
      ]
     },
     "execution_count": 26,
     "metadata": {},
     "output_type": "execute_result"
    }
   ],
   "source": [
    "new_data"
   ]
  },
  {
   "cell_type": "code",
   "execution_count": 27,
   "metadata": {
    "colab": {
     "base_uri": "https://localhost:8080/",
     "height": 74
    },
    "id": "NtMKlRP0swuW",
    "outputId": "447fd0a9-b791-44fd-c766-71e9ca074dc6"
   },
   "outputs": [],
   "source": [
    "X = data.drop('target',axis = 1)\n",
    "Y = data['target']"
   ]
  },
  {
   "cell_type": "code",
   "execution_count": 28,
   "metadata": {},
   "outputs": [
    {
     "data": {
      "text/plain": [
       "RandomForestClassifier()"
      ]
     },
     "execution_count": 28,
     "metadata": {},
     "output_type": "execute_result"
    }
   ],
   "source": [
    "rf.fit(X,Y)"
   ]
  },
  {
   "cell_type": "code",
   "execution_count": 29,
   "metadata": {},
   "outputs": [
    {
     "name": "stdout",
     "output_type": "stream",
     "text": [
      "No Disease\n"
     ]
    }
   ],
   "source": [
    "pre = rf.predict(new_data)\n",
    "if pre[0] == 0:\n",
    "  print(\"No Disease\")\n",
    "else:\n",
    "  print('Disease')"
   ]
  },
  {
   "cell_type": "code",
   "execution_count": 30,
   "metadata": {
    "id": "qDtNLaOvqQFN"
   },
   "outputs": [],
   "source": [
    "import joblib\n",
    "import pickle"
   ]
  },
  {
   "cell_type": "code",
   "execution_count": 31,
   "metadata": {
    "colab": {
     "base_uri": "https://localhost:8080/"
    },
    "id": "x7_1IhWEqZ7d",
    "outputId": "421dc870-856f-4330-ce26-cfaa394680f7"
   },
   "outputs": [
    {
     "data": {
      "text/plain": [
       "['model_joblib_heart']"
      ]
     },
     "execution_count": 31,
     "metadata": {},
     "output_type": "execute_result"
    }
   ],
   "source": [
    "joblib.dump(rf,'model_joblib_heart')"
   ]
  },
  {
   "cell_type": "code",
   "execution_count": 32,
   "metadata": {
    "id": "vvpXbYqrqwwc"
   },
   "outputs": [],
   "source": [
    "model = joblib.load('model_joblib_heart')"
   ]
  },
  {
   "cell_type": "code",
   "execution_count": 33,
   "metadata": {
    "colab": {
     "base_uri": "https://localhost:8080/"
    },
    "id": "hNiXFGNwq-Uz",
    "outputId": "b308665a-08b3-4f83-85e0-ea869893de2a"
   },
   "outputs": [
    {
     "data": {
      "text/plain": [
       "array([0], dtype=int64)"
      ]
     },
     "execution_count": 33,
     "metadata": {},
     "output_type": "execute_result"
    }
   ],
   "source": [
    "model.predict(new_data)"
   ]
  },
  {
   "cell_type": "markdown",
   "metadata": {},
   "source": [
    "# Model Analysis for RF"
   ]
  },
  {
   "cell_type": "code",
   "execution_count": 34,
   "metadata": {},
   "outputs": [
    {
     "data": {
      "text/plain": [
       "'              precision    recall  f1-score   support\\n\\n           0       0.90      0.81      0.85        32\\n           1       0.81      0.90      0.85        29\\n\\n    accuracy                           0.85        61\\n   macro avg       0.85      0.85      0.85        61\\nweighted avg       0.86      0.85      0.85        61\\n'"
      ]
     },
     "execution_count": 34,
     "metadata": {},
     "output_type": "execute_result"
    }
   ],
   "source": [
    "from sklearn.metrics import classification_report\n",
    "classification_report(y_test,y_predict4)"
   ]
  },
  {
   "cell_type": "code",
   "execution_count": 35,
   "metadata": {},
   "outputs": [],
   "source": [
    "from sklearn.metrics import confusion_matrix\n",
    "from sklearn.metrics import accuracy_score, precision_score, recall_score, f1_score"
   ]
  },
  {
   "cell_type": "code",
   "execution_count": 36,
   "metadata": {},
   "outputs": [
    {
     "name": "stdout",
     "output_type": "stream",
     "text": [
      "[1 0 0 1 1 0 0 1 1 0 1 0 1 0 1 0 0 1 0 1 1 0 1 1 0 0 0 0 0 1 1 1 1 1 1 1 0\n",
      " 1 0 0 0 0 1 0 0 0 1 0 1 0 0 0 0 1 0 0 1 1 0 1 1]\n"
     ]
    }
   ],
   "source": [
    "y_pred = model.predict(x_test)\n",
    "print(y_pred)"
   ]
  },
  {
   "cell_type": "code",
   "execution_count": 37,
   "metadata": {},
   "outputs": [],
   "source": [
    "cm = confusion_matrix(y_test,y_pred.round())"
   ]
  },
  {
   "cell_type": "code",
   "execution_count": 38,
   "metadata": {},
   "outputs": [],
   "source": [
    "import seaborn as sns\n",
    "import matplotlib.pyplot as plt"
   ]
  },
  {
   "cell_type": "code",
   "execution_count": 39,
   "metadata": {},
   "outputs": [
    {
     "data": {
      "image/png": "[encoded data removed]",
      "text/plain": [
       "<Figure size 432x288 with 2 Axes>"
      ]
     },
     "metadata": {
      "needs_background": "light"
     },
     "output_type": "display_data"
    }
   ],
   "source": [
    "#Plot the confusion matrix\n",
    "sns.heatmap(cm,\n",
    "            annot=True,\n",
    "            fmt='g',\n",
    "            xticklabels=['No Disease', 'Disease'],\n",
    "            yticklabels=['No Disease', 'Disease'])\n",
    "plt.ylabel('Actual',fontsize=13)\n",
    "plt.xlabel('Prediction',fontsize=13)\n",
    "plt.title('Confusion Matrix',fontsize=17)\n",
    "plt.show()"
   ]
  },
  {
   "cell_type": "code",
   "execution_count": 40,
   "metadata": {},
   "outputs": [
    {
     "name": "stdout",
     "output_type": "stream",
     "text": [
      "Accuracy   : 1.0\n"
     ]
    }
   ],
   "source": [
    "accuracy = accuracy_score(y_test, y_pred.round())\n",
    "print(\"Accuracy   :\", accuracy)"
   ]
  },
  {
   "cell_type": "code",
   "execution_count": 41,
   "metadata": {},
   "outputs": [
    {
     "name": "stdout",
     "output_type": "stream",
     "text": [
      "Precision : 1.0\n"
     ]
    }
   ],
   "source": [
    "precision = precision_score(y_test, y_pred.round())\n",
    "print(\"Precision :\", precision)"
   ]
  },
  {
   "cell_type": "code",
   "execution_count": 42,
   "metadata": {},
   "outputs": [
    {
     "name": "stdout",
     "output_type": "stream",
     "text": [
      "Recall    : 1.0\n"
     ]
    }
   ],
   "source": [
    "recall = recall_score(y_test, y_pred.round())\n",
    "print(\"Recall    :\", recall)"
   ]
  },
  {
   "cell_type": "code",
   "execution_count": 43,
   "metadata": {},
   "outputs": [
    {
     "name": "stdout",
     "output_type": "stream",
     "text": [
      "F1-score  : 1.0\n"
     ]
    }
   ],
   "source": [
    "F1_score = f1_score(y_test, y_pred.round())\n",
    "print(\"F1-score  :\", F1_score)"
   ]
  },
  {
   "cell_type": "markdown",
   "metadata": {},
   "source": [
    "# Model Analysis for SVM"
   ]
  },
  {
   "cell_type": "code",
   "execution_count": 44,
   "metadata": {},
   "outputs": [],
   "source": [
    "joblib.dump(svm,'model_joblib_heart')\n",
    "modelSVM = joblib.load('model_joblib_heart')"
   ]
  },
  {
   "cell_type": "code",
   "execution_count": 45,
   "metadata": {},
   "outputs": [
    {
     "name": "stdout",
     "output_type": "stream",
     "text": [
      "[1 1 0 1 1 0 0 1 1 0 1 0 1 1 1 0 0 1 0 1 1 1 0 1 0 0 1 1 0 1 1 1 1 1 1 1 1\n",
      " 1 0 0 0 0 1 0 0 0 1 0 1 1 0 0 0 1 1 0 1 1 0 0 1]\n"
     ]
    }
   ],
   "source": [
    "y_pred = modelSVM.predict(x_test)\n",
    "print(y_pred)"
   ]
  },
  {
   "cell_type": "code",
   "execution_count": 46,
   "metadata": {},
   "outputs": [],
   "source": [
    "cm = confusion_matrix(y_test,y_pred.round())"
   ]
  },
  {
   "cell_type": "code",
   "execution_count": 47,
   "metadata": {},
   "outputs": [
    {
     "data": {
      "image/png": "[encoded data removed]",
      "text/plain": [
       "<Figure size 432x288 with 2 Axes>"
      ]
     },
     "metadata": {
      "needs_background": "light"
     },
     "output_type": "display_data"
    }
   ],
   "source": [
    "#Plot the confusion matrix\n",
    "sns.heatmap(cm,\n",
    "            annot=True,\n",
    "            fmt='g',\n",
    "            xticklabels=['No Disease', 'Disease'],\n",
    "            yticklabels=['No Disease', 'Disease'])\n",
    "plt.ylabel('Actual',fontsize=13)\n",
    "plt.xlabel('Prediction',fontsize=13)\n",
    "plt.title('Confusion Matrix',fontsize=17)\n",
    "plt.show()"
   ]
  },
  {
   "cell_type": "code",
   "execution_count": 48,
   "metadata": {},
   "outputs": [
    {
     "name": "stdout",
     "output_type": "stream",
     "text": [
      "Accuracy   : 0.8360655737704918\n"
     ]
    }
   ],
   "source": [
    "accuracy = accuracy_score(y_test, y_pred.round())\n",
    "print(\"Accuracy   :\", accuracy)"
   ]
  },
  {
   "cell_type": "code",
   "execution_count": 49,
   "metadata": {},
   "outputs": [
    {
     "name": "stdout",
     "output_type": "stream",
     "text": [
      "Precision : 0.7714285714285715\n"
     ]
    }
   ],
   "source": [
    "precision = precision_score(y_test, y_pred.round())\n",
    "print(\"Precision :\", precision)"
   ]
  },
  {
   "cell_type": "code",
   "execution_count": 50,
   "metadata": {},
   "outputs": [
    {
     "name": "stdout",
     "output_type": "stream",
     "text": [
      "Recall    : 0.9310344827586207\n"
     ]
    }
   ],
   "source": [
    "recall = recall_score(y_test, y_pred.round())\n",
    "print(\"Recall    :\", recall)"
   ]
  },
  {
   "cell_type": "code",
   "execution_count": 51,
   "metadata": {},
   "outputs": [
    {
     "name": "stdout",
     "output_type": "stream",
     "text": [
      "F1-score  : 0.8437500000000001\n"
     ]
    }
   ],
   "source": [
    "F1_score = f1_score(y_test, y_pred.round())\n",
    "print(\"F1-score  :\", F1_score)"
   ]
  },
  {
   "cell_type": "markdown",
   "metadata": {},
   "source": [
    "# IoT MQTT"
   ]
  },
  {
   "cell_type": "code",
   "execution_count": 52,
   "metadata": {},
   "outputs": [
    {
     "name": "stdout",
     "output_type": "stream",
     "text": [
      "Requirement already satisfied: paho-mqtt in c:\\users\\frz\\anaconda3\\lib\\site-packages (1.6.1)\n"
     ]
    }
   ],
   "source": [
    "!pip install paho-mqtt"
   ]
  },
  {
   "cell_type": "code",
   "execution_count": 53,
   "metadata": {},
   "outputs": [],
   "source": [
    "import paho.mqtt.client as mqtt\n",
    "from random import randrange, uniform\n",
    "import time\n",
    "\n",
    "def publish(body, txt):\n",
    "    mqttBroker = \"mqtt-dashboard.com\"\n",
    "    client = mqtt.Client(\"patient\")\n",
    "    client.connect(mqttBroker)\n",
    "    client.publish(\"Disease Prediction\", body)\n",
    "    print(\"Just published \\\"\" + txt + \"\\\" to Topic Disease Prediction\")\n",
    "    time.sleep(1)"
   ]
  },
  {
   "cell_type": "markdown",
   "metadata": {},
   "source": [
    "# E-Mail"
   ]
  },
  {
   "cell_type": "code",
   "execution_count": 54,
   "metadata": {},
   "outputs": [
    {
     "name": "stdout",
     "output_type": "stream",
     "text": [
      "Requirement already satisfied: yagmail in c:\\users\\frz\\anaconda3\\lib\\site-packages (0.15.293)\n",
      "Requirement already satisfied: premailer in c:\\users\\frz\\anaconda3\\lib\\site-packages (from yagmail) (3.10.0)\n",
      "Requirement already satisfied: cachetools in c:\\users\\frz\\anaconda3\\lib\\site-packages (from premailer->yagmail) (4.2.2)\n",
      "Requirement already satisfied: requests in c:\\users\\frz\\anaconda3\\lib\\site-packages (from premailer->yagmail) (2.27.1)\n",
      "Requirement already satisfied: cssutils in c:\\users\\frz\\anaconda3\\lib\\site-packages (from premailer->yagmail) (2.7.1)\n",
      "Requirement already satisfied: lxml in c:\\users\\frz\\anaconda3\\lib\\site-packages (from premailer->yagmail) (4.8.0)\n",
      "Requirement already satisfied: cssselect in c:\\users\\frz\\anaconda3\\lib\\site-packages (from premailer->yagmail) (1.1.0)\n",
      "Requirement already satisfied: certifi>=2017.4.17 in c:\\users\\frz\\anaconda3\\lib\\site-packages (from requests->premailer->yagmail) (2021.10.8)\n",
      "Requirement already satisfied: urllib3<1.27,>=1.21.1 in c:\\users\\frz\\anaconda3\\lib\\site-packages (from requests->premailer->yagmail) (1.26.9)\n",
      "Requirement already satisfied: idna<4,>=2.5 in c:\\users\\frz\\anaconda3\\lib\\site-packages (from requests->premailer->yagmail) (3.3)\n",
      "Requirement already satisfied: charset-normalizer~=2.0.0 in c:\\users\\frz\\anaconda3\\lib\\site-packages (from requests->premailer->yagmail) (2.0.4)\n"
     ]
    }
   ],
   "source": [
    "!pip install yagmail"
   ]
  },
  {
   "cell_type": "code",
   "execution_count": 55,
   "metadata": {},
   "outputs": [],
   "source": [
    "import os\n",
    "from datetime import datetime\n",
    "from datetime import date\n",
    "import yagmail"
   ]
  },
  {
   "cell_type": "code",
   "execution_count": 56,
   "metadata": {},
   "outputs": [],
   "source": [
    "def automail(receiver, body):\n",
    "    #date = datetime.date.today().strftime(\"%B %d, %Y\")\n",
    "    #path = 'D:/UNI/Year 3/Semester 1/Artificial Intelligence for Engineering/Project/Attendance_System/Attendance'\n",
    "    #os.chdir(path)\n",
    "    files = sorted(os.listdir(os.getcwd()), key=os.path.getmtime)\n",
    "    #newest = files[-1]\n",
    "    #filename = newest\n",
    "    sub = \"Heart Disease Result\" #+ str(date)\n",
    "    # mail information\n",
    "    yag = yagmail.SMTP(\"maiakram2001@gmail.com\", password = \"xqjxekkmhpzdsaml\")#oauth2_file=\"~/oauth2_creds.json\")\n",
    "\n",
    "    # sent the mail\n",
    "    yag.send(\n",
    "        to=receiver,\n",
    "        subject=sub,           # email subject\n",
    "        contents=body,         # email body\n",
    "    )\n",
    "    print(\"Email Sent!\")"
   ]
  },
  {
   "cell_type": "markdown",
   "metadata": {
    "id": "Q4c8jaaS9kqA"
   },
   "source": [
    "# GUI"
   ]
  },
  {
   "cell_type": "code",
   "execution_count": 57,
   "metadata": {
    "id": "kW90KZ1Xo1jH"
   },
   "outputs": [],
   "source": [
    "from tkinter import *"
   ]
  },
  {
   "cell_type": "code",
   "execution_count": 137,
   "metadata": {
    "id": "p68aa3McpiQU"
   },
   "outputs": [],
   "source": [
    "def show_entry_fields():\n",
    "  name = n.get()\n",
    "  p1 = int(e1.get())\n",
    "  p2 = int(e2.get())\n",
    "  p3 = int(e3.get())\n",
    "  p4 = int(e4.get())\n",
    "  p5 = int(e5.get())\n",
    "  p6 = int(e6.get())\n",
    "  p7 = int(e7.get())\n",
    "  p8 = int(e8.get())\n",
    "  p9 = int(e9.get())\n",
    "  p10 = float(e10.get())\n",
    "  p11 = int(e11.get())\n",
    "  p12 = int(e12.get())\n",
    "  p13 = int(e13.get())\n",
    "  p14 = str(e14.get())\n",
    "\n",
    "  model = joblib.load('model_joblib_heart')\n",
    "  result = model.predict([[p1 ,p2, p3, p4, p5, p6, p7, p8, p9, p10, p11, p12, p13]])\n",
    "\n",
    "  body = \"Dear \"+name+\",\\n\\t\\t For the Case of:\\nAge: \"+str(p1)\\\n",
    "  +\"\\t\\t Gender: \"+str(p2)+\"\\t\\t CP: \"+str(p3)+\"\\t\\t Trestbps: \"+str(p4)+\"\\t\\t Chol: \"+str(p5)\\\n",
    "  +\"\\t\\t FBS: \"+str(p6)+\"\\t\\t Restecg: \"+str(p7)+\"\\t\\t Thalach: \"+str(p8)+\"\\t\\t Exang: \"+str(p9)+\"\\t\\t Oldpeak: \"+str(p10)\\\n",
    "  +\"\\t\\t Slope: \"+str(p11)+\"\\t\\t CA: \"+str(p12)+\"\\t\\t Thal: \"+str(p13)+\"\\nHeart Condition is: \"\n",
    "\n",
    "  if result == 0:\n",
    "    txt = \"No Heart Disease\"\n",
    "    Label(master, text = txt, font=('Helvetica', 12, ' bold ')).grid(row = 35)\n",
    "  else:\n",
    "    txt = \"Possibility of Heart Disease\"\n",
    "    Label(master, text = txt, font=('Helvetica', 12, ' bold ')).grid(row = 35)\n",
    "\n",
    "  body = body+txt\n",
    "  \n",
    "  automail(p14, body)\n",
    "  publish(body, txt)\n"
   ]
  },
  {
   "cell_type": "code",
   "execution_count": 138,
   "metadata": {
    "colab": {
     "base_uri": "https://localhost:8080/",
     "height": 366
    },
    "id": "4MFJV73GFVVH",
    "outputId": "338b46f4-c22e-423b-d02a-1b12b29e1c78"
   },
   "outputs": [],
   "source": [
    "master = Tk()\n",
    "master.title(\"Heart Disease Prediction System\")\n",
    "\n",
    "label = Label(master, text = \"Heart Disease Prediction System\", fg=\"white\",bg=\"#5B72D7\" ,width=55 ,height=1,font=('Helvetica', 16, ' bold ')).grid(row = 0, columnspan = 2)\n",
    "\n",
    "lab = [\"Enter Your Name: \",\n",
    "       \"Enter Your Age: \",\n",
    "       \"Male or Female [1/0]: \",\n",
    "       \"Enter CP Value: \",\n",
    "       \"Enter Trestbps Value: \",\n",
    "       \"Enter Chol Value: \",\n",
    "       \"Enter FBS Value: \",\n",
    "       \"Enter Restecg Value: \", \n",
    "       \"Enter Thalach Value: \",\n",
    "       \"Enter Exang Value: \",\n",
    "       \"Enter Oldpeak: \",\n",
    "       \"Enter Slope: \",\n",
    "       \"Enter CA Value: \",\n",
    "       \"Enter Thal Value: \"]\n",
    "i = 1\n",
    "\n",
    "for t in lab:\n",
    "    Label(master, text = t, fg = \"white\", bg=\"#8a2e7f\",width=55 ,height=1,font=('Helvetica', 12, ' bold ')).grid(row = i)\n",
    "    i+=1\n",
    "\n",
    "Label(master, text = \"Receiver Email: \", fg=\"white\", bg=\"#8a2e7f\",width=55 ,height=1,font=('Helvetica', 12, ' bold ')).grid(row = 15)\n"
   ]
  },
  {
   "cell_type": "code",
   "execution_count": 139,
   "metadata": {
    "colab": {
     "base_uri": "https://localhost:8080/",
     "height": 245
    },
    "id": "kmHRIWh-9UjP",
    "outputId": "43a02dd7-17d6-4e37-ccc1-61328c1e0cc3"
   },
   "outputs": [
    {
     "name": "stderr",
     "output_type": "stream",
     "text": [
      "C:\\Users\\frz\\anaconda3\\lib\\site-packages\\sklearn\\base.py:450: UserWarning: X does not have valid feature names, but SVC was fitted with feature names\n",
      "  warnings.warn(\n"
     ]
    },
    {
     "name": "stdout",
     "output_type": "stream",
     "text": [
      "Email Sent!\n",
      "Just published \"No Heart Disease\" to Topic Disease Prediction\n"
     ]
    },
    {
     "name": "stderr",
     "output_type": "stream",
     "text": [
      "C:\\Users\\frz\\anaconda3\\lib\\site-packages\\sklearn\\base.py:450: UserWarning: X does not have valid feature names, but SVC was fitted with feature names\n",
      "  warnings.warn(\n"
     ]
    },
    {
     "name": "stdout",
     "output_type": "stream",
     "text": [
      "Email Sent!\n",
      "Just published \"No Heart Disease\" to Topic Disease Prediction\n"
     ]
    }
   ],
   "source": [
    "n = Entry(master, width=15, fg=\"black\",font=('Helvetica', 12 ))\n",
    "e1 = Entry(master, width=15, fg=\"black\",font=('Helvetica', 12 ))\n",
    "e2 = Entry(master, width=15, fg=\"black\",font=('Helvetica', 12 ))\n",
    "e3 = Entry(master, width=15, fg=\"black\",font=('Helvetica', 12 ))\n",
    "e4 = Entry(master, width=15, fg=\"black\",font=('Helvetica', 12 ))\n",
    "e5 = Entry(master, width=15, fg=\"black\",font=('Helvetica', 12 ))\n",
    "e6 = Entry(master, width=15, fg=\"black\",font=('Helvetica', 12 ))\n",
    "e7 = Entry(master, width=15, fg=\"black\",font=('Helvetica', 12 ))\n",
    "e8 = Entry(master, width=15, fg=\"black\",font=('Helvetica', 12 ))\n",
    "e9 = Entry(master, width=15, fg=\"black\",font=('Helvetica', 12 ))\n",
    "e10 = Entry(master, width=15, fg=\"black\",font=('Helvetica', 12 ))\n",
    "e11 = Entry(master, width=15, fg=\"black\",font=('Helvetica', 12 ))\n",
    "e12 = Entry(master, width=15, fg=\"black\",font=('Helvetica', 12 ))\n",
    "e13 = Entry(master, width=15, fg=\"black\",font=('Helvetica', 12 ))\n",
    "e14= Entry(master, width=15, fg=\"black\",font=('Helvetica', 12 ))\n",
    "\n",
    "es = [n,e1,e2,e3,e4,e5,e6,e7,e8,e9,e10,e11,e12,e13,e14]\n",
    "j = 1\n",
    "for e in es:\n",
    "    e.grid(row=j, column=1)\n",
    "    j+=1\n",
    "    \n",
    "Button(master, text='Predict', command=show_entry_fields, fg=\"white\"  ,bg=\"#262523\"  ,width=25  ,height=1, activebackground = \"white\" ,font=('Helvetica', 13, ' bold ')).grid(row = 16)\n",
    "\n",
    "mainloop()"
   ]
  },
  {
   "cell_type": "code",
   "execution_count": null,
   "metadata": {},
   "outputs": [],
   "source": []
  },
  {
   "cell_type": "code",
   "execution_count": null,
   "metadata": {},
   "outputs": [],
   "source": []
  },
  {
   "cell_type": "code",
   "execution_count": null,
   "metadata": {},
   "outputs": [],
   "source": []
  }
 ],
 "metadata": {
  "colab": {
   "provenance": []
  },
  "kernelspec": {
   "display_name": "Python 3 (ipykernel)",
   "language": "python",
   "name": "python3"
  },
  "language_info": {
   "codemirror_mode": {
    "name": "ipython",
    "version": 3
   },
   "file_extension": ".py",
   "mimetype": "text/x-python",
   "name": "python",
   "nbconvert_exporter": "python",
   "pygments_lexer": "ipython3",
   "version": "3.9.12"
  }
 },
 "nbformat": 4,
 "nbformat_minor": 1
}
